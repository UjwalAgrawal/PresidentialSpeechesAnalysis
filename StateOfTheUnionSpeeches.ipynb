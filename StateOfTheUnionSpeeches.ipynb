{
 "cells": [
  {
   "cell_type": "code",
   "execution_count": 1,
   "id": "ac79137d-899e-44c8-bf2d-f237d8ada0dc",
   "metadata": {},
   "outputs": [],
   "source": [
    "import pandas as pd\n",
    "import re"
   ]
  },
  {
   "cell_type": "code",
   "execution_count": 2,
   "id": "24073575-dff9-4ff6-89a5-cbfdec98d93d",
   "metadata": {},
   "outputs": [],
   "source": [
    "data = pd.read_csv('state_ofthe_union_texts.csv')"
   ]
  },
  {
   "cell_type": "code",
   "execution_count": 3,
   "id": "4295c255-08b7-48f0-a8af-468749957f14",
   "metadata": {},
   "outputs": [
    {
     "data": {
      "text/html": [
       "<div>\n",
       "<style scoped>\n",
       "    .dataframe tbody tr th:only-of-type {\n",
       "        vertical-align: middle;\n",
       "    }\n",
       "\n",
       "    .dataframe tbody tr th {\n",
       "        vertical-align: top;\n",
       "    }\n",
       "\n",
       "    .dataframe thead th {\n",
       "        text-align: right;\n",
       "    }\n",
       "</style>\n",
       "<table border=\"1\" class=\"dataframe\">\n",
       "  <thead>\n",
       "    <tr style=\"text-align: right;\">\n",
       "      <th></th>\n",
       "      <th>President</th>\n",
       "      <th>Year</th>\n",
       "      <th>Title</th>\n",
       "      <th>Text</th>\n",
       "    </tr>\n",
       "  </thead>\n",
       "  <tbody>\n",
       "    <tr>\n",
       "      <th>0</th>\n",
       "      <td>George Washington</td>\n",
       "      <td>1790</td>\n",
       "      <td>First State of the Union Address</td>\n",
       "      <td>['I embrace with great satisfaction the opport...</td>\n",
       "    </tr>\n",
       "    <tr>\n",
       "      <th>1</th>\n",
       "      <td>George Washington</td>\n",
       "      <td>1790</td>\n",
       "      <td>Second State of the Union Address</td>\n",
       "      <td>['Fellow-Citizens of the Senate and the House ...</td>\n",
       "    </tr>\n",
       "    <tr>\n",
       "      <th>2</th>\n",
       "      <td>George Washington</td>\n",
       "      <td>1791</td>\n",
       "      <td>Third State of the Union Address</td>\n",
       "      <td>['Fellow-Citizens of the Senate and the House ...</td>\n",
       "    </tr>\n",
       "    <tr>\n",
       "      <th>3</th>\n",
       "      <td>George Washington</td>\n",
       "      <td>1792</td>\n",
       "      <td>Fourth State of the Union Address</td>\n",
       "      <td>['Fellow-Citizens of the Senate and of the Hou...</td>\n",
       "    </tr>\n",
       "    <tr>\n",
       "      <th>4</th>\n",
       "      <td>George Washington</td>\n",
       "      <td>1793</td>\n",
       "      <td>Fifth State of the Union Address</td>\n",
       "      <td>['Fellow Citizens of the Senate and of the Hou...</td>\n",
       "    </tr>\n",
       "  </tbody>\n",
       "</table>\n",
       "</div>"
      ],
      "text/plain": [
       "           President  Year                              Title  \\\n",
       "0  George Washington  1790   First State of the Union Address   \n",
       "1  George Washington  1790  Second State of the Union Address   \n",
       "2  George Washington  1791   Third State of the Union Address   \n",
       "3  George Washington  1792  Fourth State of the Union Address   \n",
       "4  George Washington  1793   Fifth State of the Union Address   \n",
       "\n",
       "                                                Text  \n",
       "0  ['I embrace with great satisfaction the opport...  \n",
       "1  ['Fellow-Citizens of the Senate and the House ...  \n",
       "2  ['Fellow-Citizens of the Senate and the House ...  \n",
       "3  ['Fellow-Citizens of the Senate and of the Hou...  \n",
       "4  ['Fellow Citizens of the Senate and of the Hou...  "
      ]
     },
     "execution_count": 3,
     "metadata": {},
     "output_type": "execute_result"
    }
   ],
   "source": [
    "data.head()"
   ]
  },
  {
   "cell_type": "code",
   "execution_count": 4,
   "id": "ce815159-f4f9-428b-994a-e2c769eee062",
   "metadata": {},
   "outputs": [],
   "source": [
    "def removeNewLine(text):\n",
    "    # Replace '\\n' sandwiched between words\n",
    "    text = re.sub(r'(\\w)\\n(\\w)', r'\\1 \\2', text)\n",
    "    # Replace '\\n' followed directly by a word\n",
    "    text = re.sub(r'\\n(\\w)', r' \\1', text)\n",
    "    # Replace literal '\\\\n' followed directly by a word\n",
    "    text = re.sub(r'\\\\n(\\w)', r' \\1', text)\n",
    "    return text"
   ]
  },
  {
   "cell_type": "code",
   "execution_count": 5,
   "id": "567eba53-e4c0-4305-b98d-5e4da097b035",
   "metadata": {},
   "outputs": [],
   "source": [
    "data['Text'] = data['Text'].apply(removeNewLine)"
   ]
  },
  {
   "cell_type": "code",
   "execution_count": 6,
   "id": "36b1734a-4747-4c71-900b-ed0ddc82c48b",
   "metadata": {},
   "outputs": [],
   "source": [
    "# data.Text[0]"
   ]
  },
  {
   "cell_type": "code",
   "execution_count": 7,
   "id": "b3d08c63-aa5b-4b5c-96f2-d04621c33cd1",
   "metadata": {},
   "outputs": [],
   "source": [
    "from sklearn.feature_extraction.text import CountVectorizer"
   ]
  },
  {
   "cell_type": "code",
   "execution_count": 8,
   "id": "f7b821a6-1556-45f9-bcfd-151240789d8f",
   "metadata": {},
   "outputs": [],
   "source": [
    "cv = CountVectorizer(max_df=0.90, min_df=2, stop_words='english')"
   ]
  },
  {
   "cell_type": "code",
   "execution_count": 9,
   "id": "253e8306-7191-4978-b496-ab4193be7bcf",
   "metadata": {},
   "outputs": [],
   "source": [
    "dtm = cv.fit_transform(data['Text'])"
   ]
  },
  {
   "cell_type": "code",
   "execution_count": 10,
   "id": "1c0fe4f1-2d18-43b6-90d6-2ce24488432a",
   "metadata": {},
   "outputs": [
    {
     "data": {
      "text/plain": [
       "<219x16991 sparse matrix of type '<class 'numpy.int64'>'\n",
       "\twith 333025 stored elements in Compressed Sparse Row format>"
      ]
     },
     "execution_count": 10,
     "metadata": {},
     "output_type": "execute_result"
    }
   ],
   "source": [
    "dtm"
   ]
  },
  {
   "cell_type": "code",
   "execution_count": 11,
   "id": "996dd415-5fd8-438f-a5fa-bf2e465d9724",
   "metadata": {},
   "outputs": [],
   "source": [
    "from sklearn.decomposition import LatentDirichletAllocation"
   ]
  },
  {
   "cell_type": "code",
   "execution_count": 12,
   "id": "485dd49f-72fc-4abe-8caa-7abb3c70b6e6",
   "metadata": {},
   "outputs": [],
   "source": [
    "lda = LatentDirichletAllocation(n_components=12, random_state=42)"
   ]
  },
  {
   "cell_type": "code",
   "execution_count": 13,
   "id": "3293ca7f-0567-4304-8ef7-039dcf4458c3",
   "metadata": {},
   "outputs": [
    {
     "data": {
      "text/html": [
       "<style>#sk-container-id-1 {color: black;}#sk-container-id-1 pre{padding: 0;}#sk-container-id-1 div.sk-toggleable {background-color: white;}#sk-container-id-1 label.sk-toggleable__label {cursor: pointer;display: block;width: 100%;margin-bottom: 0;padding: 0.3em;box-sizing: border-box;text-align: center;}#sk-container-id-1 label.sk-toggleable__label-arrow:before {content: \"▸\";float: left;margin-right: 0.25em;color: #696969;}#sk-container-id-1 label.sk-toggleable__label-arrow:hover:before {color: black;}#sk-container-id-1 div.sk-estimator:hover label.sk-toggleable__label-arrow:before {color: black;}#sk-container-id-1 div.sk-toggleable__content {max-height: 0;max-width: 0;overflow: hidden;text-align: left;background-color: #f0f8ff;}#sk-container-id-1 div.sk-toggleable__content pre {margin: 0.2em;color: black;border-radius: 0.25em;background-color: #f0f8ff;}#sk-container-id-1 input.sk-toggleable__control:checked~div.sk-toggleable__content {max-height: 200px;max-width: 100%;overflow: auto;}#sk-container-id-1 input.sk-toggleable__control:checked~label.sk-toggleable__label-arrow:before {content: \"▾\";}#sk-container-id-1 div.sk-estimator input.sk-toggleable__control:checked~label.sk-toggleable__label {background-color: #d4ebff;}#sk-container-id-1 div.sk-label input.sk-toggleable__control:checked~label.sk-toggleable__label {background-color: #d4ebff;}#sk-container-id-1 input.sk-hidden--visually {border: 0;clip: rect(1px 1px 1px 1px);clip: rect(1px, 1px, 1px, 1px);height: 1px;margin: -1px;overflow: hidden;padding: 0;position: absolute;width: 1px;}#sk-container-id-1 div.sk-estimator {font-family: monospace;background-color: #f0f8ff;border: 1px dotted black;border-radius: 0.25em;box-sizing: border-box;margin-bottom: 0.5em;}#sk-container-id-1 div.sk-estimator:hover {background-color: #d4ebff;}#sk-container-id-1 div.sk-parallel-item::after {content: \"\";width: 100%;border-bottom: 1px solid gray;flex-grow: 1;}#sk-container-id-1 div.sk-label:hover label.sk-toggleable__label {background-color: #d4ebff;}#sk-container-id-1 div.sk-serial::before {content: \"\";position: absolute;border-left: 1px solid gray;box-sizing: border-box;top: 0;bottom: 0;left: 50%;z-index: 0;}#sk-container-id-1 div.sk-serial {display: flex;flex-direction: column;align-items: center;background-color: white;padding-right: 0.2em;padding-left: 0.2em;position: relative;}#sk-container-id-1 div.sk-item {position: relative;z-index: 1;}#sk-container-id-1 div.sk-parallel {display: flex;align-items: stretch;justify-content: center;background-color: white;position: relative;}#sk-container-id-1 div.sk-item::before, #sk-container-id-1 div.sk-parallel-item::before {content: \"\";position: absolute;border-left: 1px solid gray;box-sizing: border-box;top: 0;bottom: 0;left: 50%;z-index: -1;}#sk-container-id-1 div.sk-parallel-item {display: flex;flex-direction: column;z-index: 1;position: relative;background-color: white;}#sk-container-id-1 div.sk-parallel-item:first-child::after {align-self: flex-end;width: 50%;}#sk-container-id-1 div.sk-parallel-item:last-child::after {align-self: flex-start;width: 50%;}#sk-container-id-1 div.sk-parallel-item:only-child::after {width: 0;}#sk-container-id-1 div.sk-dashed-wrapped {border: 1px dashed gray;margin: 0 0.4em 0.5em 0.4em;box-sizing: border-box;padding-bottom: 0.4em;background-color: white;}#sk-container-id-1 div.sk-label label {font-family: monospace;font-weight: bold;display: inline-block;line-height: 1.2em;}#sk-container-id-1 div.sk-label-container {text-align: center;}#sk-container-id-1 div.sk-container {/* jupyter's `normalize.less` sets `[hidden] { display: none; }` but bootstrap.min.css set `[hidden] { display: none !important; }` so we also need the `!important` here to be able to override the default hidden behavior on the sphinx rendered scikit-learn.org. See: https://github.com/scikit-learn/scikit-learn/issues/21755 */display: inline-block !important;position: relative;}#sk-container-id-1 div.sk-text-repr-fallback {display: none;}</style><div id=\"sk-container-id-1\" class=\"sk-top-container\"><div class=\"sk-text-repr-fallback\"><pre>LatentDirichletAllocation(n_components=12, random_state=42)</pre><b>In a Jupyter environment, please rerun this cell to show the HTML representation or trust the notebook. <br />On GitHub, the HTML representation is unable to render, please try loading this page with nbviewer.org.</b></div><div class=\"sk-container\" hidden><div class=\"sk-item\"><div class=\"sk-estimator sk-toggleable\"><input class=\"sk-toggleable__control sk-hidden--visually\" id=\"sk-estimator-id-1\" type=\"checkbox\" checked><label for=\"sk-estimator-id-1\" class=\"sk-toggleable__label sk-toggleable__label-arrow\">LatentDirichletAllocation</label><div class=\"sk-toggleable__content\"><pre>LatentDirichletAllocation(n_components=12, random_state=42)</pre></div></div></div></div></div>"
      ],
      "text/plain": [
       "LatentDirichletAllocation(n_components=12, random_state=42)"
      ]
     },
     "execution_count": 13,
     "metadata": {},
     "output_type": "execute_result"
    }
   ],
   "source": [
    "lda.fit(dtm)"
   ]
  },
  {
   "cell_type": "code",
   "execution_count": 21,
   "id": "032c4c71-deab-437a-a6dc-be818a2c78a8",
   "metadata": {},
   "outputs": [
    {
     "name": "stdout",
     "output_type": "stream",
     "text": [
      "Topic 0\n",
      "['spain', 'necessary', 'vessels', 'treaty', 'commerce', 'present', 'shall', 'force', 'powers', 'effect', 'session', 'interests', 'consideration', 'subject', 'proper']\n",
      "\n",
      "\n",
      "Topic 1\n",
      "['mexico', 'texas', 'mexican', 'paredes', 'rio', 'annexation', 'grande', 'nueces', '1845', 'revolution', 'redress', 'month', 'applause', 'complaint', 'santa']\n",
      "\n",
      "\n",
      "Topic 2\n",
      "['soviet', 'oil', 'ho', 'afghanistan', 'justin', 'isis', 'preserve', 'region', 'unwarranted', 'pillar', 'israel', 'ms', 'drilling', 'allen', 'robert']\n",
      "\n",
      "\n",
      "Topic 3\n",
      "['america', 'americans', 'world', 'work', 'tonight', 'let', 'help', 'know', 'jobs', 'children', 've', 'need', 'tax', 'health', 'care']\n",
      "\n",
      "\n",
      "Topic 4\n",
      "['men', 'business', 'man', 'work', 'conditions', 'labor', 'possible', 'necessary', 'present', 'way', 'need', 'commerce', 'corporations', 'industrial', 'interstate']\n",
      "\n",
      "\n",
      "Topic 5\n",
      "['000', 'gold', 'general', 'spain', 'cuba', 'international', 'islands', 'shall', 'island', 'treasury', 'commission', 'secretary', 'trade', 'military', 'authority']\n",
      "\n",
      "\n",
      "Topic 6\n",
      "['world', 'federal', 'economic', 'program', 'free', 'security', 'shall', 'administration', 'defense', 'million', 'military', 'legislation', 'production', 'forces', 'development']\n",
      "\n",
      "\n",
      "Topic 7\n",
      "['000', 'department', 'service', 'general', 'foreign', 'present', 'report', 'secretary', 'attention', 'legislation', 'subject', 'fiscal', 'purpose', 'shall', 'relations']\n",
      "\n",
      "\n",
      "Topic 8\n",
      "['shall', 'business', 'credit', 'resources', 'life', 'hope', 'set', 'ought', 'legislation', 'need', 'believe', 'world', 'service', 'farmers', 'mexico']\n",
      "\n",
      "\n",
      "Topic 9\n",
      "['present', 'shall', '000', 'constitution', 'subject', 'general', 'treaty', 'mexico', 'treasury', 'union', 'duty', 'necessary', 'laws', 'duties', 'foreign']\n",
      "\n",
      "\n",
      "Topic 10\n",
      "['000', 'service', 'general', 'department', 'work', 'present', 'legislation', 'report', 'secretary', 'subject', 'laws', 'increase', 'attention', 'number', 'foreign']\n",
      "\n",
      "\n",
      "Topic 11\n",
      "['000', 'federal', 'construction', 'court', 'tariff', 'work', 'present', 'department', 'ought', 'banks', 'commission', 'agriculture', 'board', 'service', 'large']\n",
      "\n",
      "\n"
     ]
    }
   ],
   "source": [
    "for idx, topic in enumerate(lda.components_):\n",
    "    print(f'Topic {idx}')\n",
    "    top_fifteen_words = topic.argsort()[-15:]\n",
    "    print([cv.get_feature_names_out()[i] for i in top_fifteen_words][::-1])\n",
    "    print('\\n')"
   ]
  },
  {
   "cell_type": "code",
   "execution_count": 22,
   "id": "500f8485-0f60-4c07-9e32-60c93ca06527",
   "metadata": {},
   "outputs": [],
   "source": [
    "topics = {0: 'International Relations and Treaties', 1: 'Mexican-American Relations and History', 2: 'Geopolitical Issues and Conflicts', 3: 'American Society and Policy', 4: 'Labor and Industrial Conditions', 5: 'Spanish-American Relations and Trade', 6: 'Federal Programs and Military', 7: 'Government Departments and Foreign Affairs', 8: 'Business and Legislative Needs', 9: 'Constitutional and Legislative Matters', 10: 'Government Reports and Legislation', 11: 'Federal Infrastructure and Agriculture'}"
   ]
  },
  {
   "cell_type": "code",
   "execution_count": 23,
   "id": "f52ae0ff-0544-48f2-8097-8e5174dcaed3",
   "metadata": {},
   "outputs": [],
   "source": [
    "# data['Text'][124]"
   ]
  },
  {
   "cell_type": "code",
   "execution_count": 24,
   "id": "37464c07-defc-4a0a-a64d-24a767b375f1",
   "metadata": {},
   "outputs": [],
   "source": [
    "topic_results = lda.transform(dtm)"
   ]
  },
  {
   "cell_type": "code",
   "execution_count": 25,
   "id": "e5ebf874-9c29-494d-9c98-9c4850e43e1d",
   "metadata": {},
   "outputs": [],
   "source": [
    "data['Topic Number'] = topic_results.argmax(axis=1)"
   ]
  },
  {
   "cell_type": "code",
   "execution_count": 26,
   "id": "390485fc-e294-451b-ac9a-6a9c4801f3e4",
   "metadata": {},
   "outputs": [],
   "source": [
    "data['Topic'] = data['Topic Number'].map(topics)"
   ]
  },
  {
   "cell_type": "code",
   "execution_count": 27,
   "id": "ce2d417a-685b-4019-a390-e00c8a3c9f89",
   "metadata": {},
   "outputs": [
    {
     "data": {
      "text/html": [
       "<div>\n",
       "<style scoped>\n",
       "    .dataframe tbody tr th:only-of-type {\n",
       "        vertical-align: middle;\n",
       "    }\n",
       "\n",
       "    .dataframe tbody tr th {\n",
       "        vertical-align: top;\n",
       "    }\n",
       "\n",
       "    .dataframe thead th {\n",
       "        text-align: right;\n",
       "    }\n",
       "</style>\n",
       "<table border=\"1\" class=\"dataframe\">\n",
       "  <thead>\n",
       "    <tr style=\"text-align: right;\">\n",
       "      <th></th>\n",
       "      <th>President</th>\n",
       "      <th>Year</th>\n",
       "      <th>Title</th>\n",
       "      <th>Text</th>\n",
       "      <th>Topic Number</th>\n",
       "      <th>Topic</th>\n",
       "    </tr>\n",
       "  </thead>\n",
       "  <tbody>\n",
       "    <tr>\n",
       "      <th>0</th>\n",
       "      <td>George Washington</td>\n",
       "      <td>1790</td>\n",
       "      <td>First State of the Union Address</td>\n",
       "      <td>['I embrace with great satisfaction the opport...</td>\n",
       "      <td>9</td>\n",
       "      <td>Constitutional and Legislative Matters</td>\n",
       "    </tr>\n",
       "    <tr>\n",
       "      <th>1</th>\n",
       "      <td>George Washington</td>\n",
       "      <td>1790</td>\n",
       "      <td>Second State of the Union Address</td>\n",
       "      <td>['Fellow-Citizens of the Senate and the House ...</td>\n",
       "      <td>9</td>\n",
       "      <td>Constitutional and Legislative Matters</td>\n",
       "    </tr>\n",
       "    <tr>\n",
       "      <th>2</th>\n",
       "      <td>George Washington</td>\n",
       "      <td>1791</td>\n",
       "      <td>Third State of the Union Address</td>\n",
       "      <td>['Fellow-Citizens of the Senate and the House ...</td>\n",
       "      <td>9</td>\n",
       "      <td>Constitutional and Legislative Matters</td>\n",
       "    </tr>\n",
       "    <tr>\n",
       "      <th>3</th>\n",
       "      <td>George Washington</td>\n",
       "      <td>1792</td>\n",
       "      <td>Fourth State of the Union Address</td>\n",
       "      <td>['Fellow-Citizens of the Senate and of the Hou...</td>\n",
       "      <td>9</td>\n",
       "      <td>Constitutional and Legislative Matters</td>\n",
       "    </tr>\n",
       "    <tr>\n",
       "      <th>4</th>\n",
       "      <td>George Washington</td>\n",
       "      <td>1793</td>\n",
       "      <td>Fifth State of the Union Address</td>\n",
       "      <td>['Fellow Citizens of the Senate and of the Hou...</td>\n",
       "      <td>9</td>\n",
       "      <td>Constitutional and Legislative Matters</td>\n",
       "    </tr>\n",
       "  </tbody>\n",
       "</table>\n",
       "</div>"
      ],
      "text/plain": [
       "           President  Year                              Title  \\\n",
       "0  George Washington  1790   First State of the Union Address   \n",
       "1  George Washington  1790  Second State of the Union Address   \n",
       "2  George Washington  1791   Third State of the Union Address   \n",
       "3  George Washington  1792  Fourth State of the Union Address   \n",
       "4  George Washington  1793   Fifth State of the Union Address   \n",
       "\n",
       "                                                Text  Topic Number  \\\n",
       "0  ['I embrace with great satisfaction the opport...             9   \n",
       "1  ['Fellow-Citizens of the Senate and the House ...             9   \n",
       "2  ['Fellow-Citizens of the Senate and the House ...             9   \n",
       "3  ['Fellow-Citizens of the Senate and of the Hou...             9   \n",
       "4  ['Fellow Citizens of the Senate and of the Hou...             9   \n",
       "\n",
       "                                    Topic  \n",
       "0  Constitutional and Legislative Matters  \n",
       "1  Constitutional and Legislative Matters  \n",
       "2  Constitutional and Legislative Matters  \n",
       "3  Constitutional and Legislative Matters  \n",
       "4  Constitutional and Legislative Matters  "
      ]
     },
     "execution_count": 27,
     "metadata": {},
     "output_type": "execute_result"
    }
   ],
   "source": [
    "data.head()"
   ]
  },
  {
   "cell_type": "code",
   "execution_count": 42,
   "id": "f28ccfd5-c8af-4c05-bab7-f1a691d703f6",
   "metadata": {},
   "outputs": [],
   "source": [
    "data = data.replace('by John Adams', 'John Adams')"
   ]
  },
  {
   "cell_type": "code",
   "execution_count": 43,
   "id": "cba3b9b7-de61-474d-851c-66e378d56ac9",
   "metadata": {},
   "outputs": [
    {
     "data": {
      "text/plain": [
       "(219, 6)"
      ]
     },
     "execution_count": 43,
     "metadata": {},
     "output_type": "execute_result"
    }
   ],
   "source": [
    "data.shape"
   ]
  },
  {
   "cell_type": "code",
   "execution_count": 44,
   "id": "30ddbf75-8e55-40fe-9eb0-c4e8762ce710",
   "metadata": {},
   "outputs": [],
   "source": [
    "presidents = pd.read_csv('us_presidents.csv')[['president', 'party']]"
   ]
  },
  {
   "cell_type": "code",
   "execution_count": 45,
   "id": "4624750f-212d-4715-91ff-6a5ee9eb6bdc",
   "metadata": {},
   "outputs": [],
   "source": [
    "def three_parties(text):\n",
    "    if('republic' in text.lower()):\n",
    "        return 'Republican'\n",
    "    elif('democrat' in text.lower()):\n",
    "        return 'Democratic'\n",
    "    else:\n",
    "        return 'Nonpartisan'"
   ]
  },
  {
   "cell_type": "code",
   "execution_count": 46,
   "id": "34c4d8b6-9107-402e-877e-8b84758ce10c",
   "metadata": {},
   "outputs": [],
   "source": [
    "presidents['party'] = presidents['party'].apply(three_parties)"
   ]
  },
  {
   "cell_type": "code",
   "execution_count": 34,
   "id": "fea0ef54-66e6-4fa9-b501-0a7559bdfd8c",
   "metadata": {},
   "outputs": [],
   "source": [
    "# presidents"
   ]
  },
  {
   "cell_type": "code",
   "execution_count": 35,
   "id": "6f774271-5583-4b63-b290-7f03561eaf1d",
   "metadata": {},
   "outputs": [],
   "source": [
    "# presidents.join(temp, how = 'inner', on='president', "
   ]
  },
  {
   "cell_type": "code",
   "execution_count": 47,
   "id": "7c753ff0-582e-48a5-a4b3-3e1508455760",
   "metadata": {},
   "outputs": [],
   "source": [
    "data = pd.merge(data, presidents, left_on='President', right_on='president', how = 'left')"
   ]
  },
  {
   "cell_type": "code",
   "execution_count": 49,
   "id": "c51e29e0-51b1-4023-ac08-c191f413473e",
   "metadata": {},
   "outputs": [],
   "source": [
    "# data.to_csv('combined.csv')"
   ]
  },
  {
   "cell_type": "code",
   "execution_count": 50,
   "id": "d8f849b5-d134-4fc1-ab62-dd0d5315d6ae",
   "metadata": {},
   "outputs": [
    {
     "data": {
      "text/html": [
       "<div>\n",
       "<style scoped>\n",
       "    .dataframe tbody tr th:only-of-type {\n",
       "        vertical-align: middle;\n",
       "    }\n",
       "\n",
       "    .dataframe tbody tr th {\n",
       "        vertical-align: top;\n",
       "    }\n",
       "\n",
       "    .dataframe thead th {\n",
       "        text-align: right;\n",
       "    }\n",
       "</style>\n",
       "<table border=\"1\" class=\"dataframe\">\n",
       "  <thead>\n",
       "    <tr style=\"text-align: right;\">\n",
       "      <th></th>\n",
       "      <th>President</th>\n",
       "      <th>Year</th>\n",
       "      <th>Title</th>\n",
       "      <th>Text</th>\n",
       "      <th>Topic Number</th>\n",
       "      <th>Topic</th>\n",
       "      <th>president</th>\n",
       "      <th>party</th>\n",
       "    </tr>\n",
       "  </thead>\n",
       "  <tbody>\n",
       "    <tr>\n",
       "      <th>0</th>\n",
       "      <td>George Washington</td>\n",
       "      <td>1790</td>\n",
       "      <td>First State of the Union Address</td>\n",
       "      <td>['I embrace with great satisfaction the opport...</td>\n",
       "      <td>9</td>\n",
       "      <td>Constitutional and Legislative Matters</td>\n",
       "      <td>George Washington</td>\n",
       "      <td>Nonpartisan</td>\n",
       "    </tr>\n",
       "    <tr>\n",
       "      <th>1</th>\n",
       "      <td>George Washington</td>\n",
       "      <td>1790</td>\n",
       "      <td>Second State of the Union Address</td>\n",
       "      <td>['Fellow-Citizens of the Senate and the House ...</td>\n",
       "      <td>9</td>\n",
       "      <td>Constitutional and Legislative Matters</td>\n",
       "      <td>George Washington</td>\n",
       "      <td>Nonpartisan</td>\n",
       "    </tr>\n",
       "    <tr>\n",
       "      <th>2</th>\n",
       "      <td>George Washington</td>\n",
       "      <td>1791</td>\n",
       "      <td>Third State of the Union Address</td>\n",
       "      <td>['Fellow-Citizens of the Senate and the House ...</td>\n",
       "      <td>9</td>\n",
       "      <td>Constitutional and Legislative Matters</td>\n",
       "      <td>George Washington</td>\n",
       "      <td>Nonpartisan</td>\n",
       "    </tr>\n",
       "    <tr>\n",
       "      <th>3</th>\n",
       "      <td>George Washington</td>\n",
       "      <td>1792</td>\n",
       "      <td>Fourth State of the Union Address</td>\n",
       "      <td>['Fellow-Citizens of the Senate and of the Hou...</td>\n",
       "      <td>9</td>\n",
       "      <td>Constitutional and Legislative Matters</td>\n",
       "      <td>George Washington</td>\n",
       "      <td>Nonpartisan</td>\n",
       "    </tr>\n",
       "    <tr>\n",
       "      <th>4</th>\n",
       "      <td>George Washington</td>\n",
       "      <td>1793</td>\n",
       "      <td>Fifth State of the Union Address</td>\n",
       "      <td>['Fellow Citizens of the Senate and of the Hou...</td>\n",
       "      <td>9</td>\n",
       "      <td>Constitutional and Legislative Matters</td>\n",
       "      <td>George Washington</td>\n",
       "      <td>Nonpartisan</td>\n",
       "    </tr>\n",
       "  </tbody>\n",
       "</table>\n",
       "</div>"
      ],
      "text/plain": [
       "           President  Year                              Title  \\\n",
       "0  George Washington  1790   First State of the Union Address   \n",
       "1  George Washington  1790  Second State of the Union Address   \n",
       "2  George Washington  1791   Third State of the Union Address   \n",
       "3  George Washington  1792  Fourth State of the Union Address   \n",
       "4  George Washington  1793   Fifth State of the Union Address   \n",
       "\n",
       "                                                Text  Topic Number  \\\n",
       "0  ['I embrace with great satisfaction the opport...             9   \n",
       "1  ['Fellow-Citizens of the Senate and the House ...             9   \n",
       "2  ['Fellow-Citizens of the Senate and the House ...             9   \n",
       "3  ['Fellow-Citizens of the Senate and of the Hou...             9   \n",
       "4  ['Fellow Citizens of the Senate and of the Hou...             9   \n",
       "\n",
       "                                    Topic          president        party  \n",
       "0  Constitutional and Legislative Matters  George Washington  Nonpartisan  \n",
       "1  Constitutional and Legislative Matters  George Washington  Nonpartisan  \n",
       "2  Constitutional and Legislative Matters  George Washington  Nonpartisan  \n",
       "3  Constitutional and Legislative Matters  George Washington  Nonpartisan  \n",
       "4  Constitutional and Legislative Matters  George Washington  Nonpartisan  "
      ]
     },
     "execution_count": 50,
     "metadata": {},
     "output_type": "execute_result"
    }
   ],
   "source": [
    "data.head()"
   ]
  },
  {
   "cell_type": "code",
   "execution_count": 51,
   "id": "797fe5a9-e6f0-4993-8602-9d392d0590cd",
   "metadata": {},
   "outputs": [],
   "source": [
    "import matplotlib.pyplot as plt"
   ]
  },
  {
   "cell_type": "code",
   "execution_count": 58,
   "id": "4b0c7420-17bc-4432-9ef2-557daccd7625",
   "metadata": {},
   "outputs": [
    {
     "data": {
      "image/png": "[encoded data removed]",
      "text/plain": [
       "<Figure size 640x480 with 1 Axes>"
      ]
     },
     "metadata": {},
     "output_type": "display_data"
    }
   ],
   "source": [
    "# Count the number of addresses per party for each topic\n",
    "topic_party_counts = data.groupby(['Topic', 'party']).size().unstack(fill_value=0)\n",
    "\n",
    "colors = {'Democratic': 'blue', 'Republican': 'red', 'Nonpartisan': 'grey'}\n",
    "\n",
    "# Plot the bar chart\n",
    "topic_party_counts.plot(kind='bar', stacked=False, color=[colors.get(party, 'black') for party in topic_party_counts.columns])\n",
    "\n",
    "plt.title('Count of Party for Each Topic')\n",
    "plt.xlabel('Topic')\n",
    "plt.ylabel('Count')\n",
    "plt.legend(title='Party')\n",
    "plt.xticks(rotation=45, ha='right')\n",
    "\n",
    "# Show the plot\n",
    "plt.show()"
   ]
  },
  {
   "cell_type": "markdown",
   "id": "134b21d5-0dc3-4f8f-b576-c0c1f368b168",
   "metadata": {},
   "source": [
    "# Thanks for your time!"
   ]
  },
  {
   "cell_type": "code",
   "execution_count": null,
   "id": "613e1e8a-3c70-47b0-889c-447cd9ce0a88",
   "metadata": {},
   "outputs": [],
   "source": []
  }
 ],
 "metadata": {
  "kernelspec": {
   "display_name": "nlp",
   "language": "python",
   "name": "condaenv"
  },
  "language_info": {
   "codemirror_mode": {
    "name": "ipython",
    "version": 3
   },
   "file_extension": ".py",
   "mimetype": "text/x-python",
   "name": "python",
   "nbconvert_exporter": "python",
   "pygments_lexer": "ipython3",
   "version": "3.11.5"
  }
 },
 "nbformat": 4,
 "nbformat_minor": 5
}
